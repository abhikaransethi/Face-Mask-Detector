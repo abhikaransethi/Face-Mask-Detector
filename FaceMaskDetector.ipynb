{
 "cells": [
  {
   "cell_type": "code",
   "execution_count": 1,
   "source": [
    "from tensorflow.keras.models import load_model"
   ],
   "outputs": [],
   "metadata": {}
  },
  {
   "cell_type": "code",
   "execution_count": 3,
   "source": [
    "path=r\"model weights\""
   ],
   "outputs": [],
   "metadata": {}
  },
  {
   "cell_type": "code",
   "execution_count": 4,
   "source": [
    "mod=load_model(path)"
   ],
   "outputs": [],
   "metadata": {}
  },
  {
   "cell_type": "code",
   "execution_count": 5,
   "source": [
    "import cv2"
   ],
   "outputs": [],
   "metadata": {}
  },
  {
   "cell_type": "code",
   "execution_count": 6,
   "source": [
    "proto=r'face_detector\\deploy.prototxt'\r\n",
    "caf=r'face_detector\\res10_300x300_ssd_iter_140000.caffemodel'\r\n",
    "facenet=cv2.dnn.readNet(proto, caf)"
   ],
   "outputs": [],
   "metadata": {}
  },
  {
   "cell_type": "code",
   "execution_count": 7,
   "source": [
    "import numpy as np"
   ],
   "outputs": [],
   "metadata": {}
  },
  {
   "cell_type": "code",
   "execution_count": 8,
   "source": [
    "from tensorflow.keras.preprocessing.image import img_to_array\r\n",
    "from tensorflow.keras.applications.vgg16 import preprocess_input\r\n",
    "def predictor(frame, facenet, mod):\r\n",
    "    (h,w)=frame.shape[:2]\r\n",
    "    blob=cv2.dnn.blobFromImage(frame, 1, (224,224), (104.0, 177.0, 123.0))\r\n",
    "    facenet.setInput(blob)\r\n",
    "    \r\n",
    "    t=facenet.forward()\r\n",
    "    \r\n",
    "    faces=[]\r\n",
    "    locs=[]\r\n",
    "    preds=[]\r\n",
    "    for i in range(t.shape[2]):\r\n",
    "        \r\n",
    "        conf=t[0,0,i,2]\r\n",
    "        if conf>0.5:\r\n",
    "            box=t[0,0,i,3:7]*np.array([w,h,w,h])\r\n",
    "            (startx, starty, endx, endy)=box.astype(\"int\")\r\n",
    "            face=frame[startx:endx, starty:endy]\r\n",
    "            face=cv2.cvtColor(frame, cv2.COLOR_BGR2RGB)\r\n",
    "            face=cv2.resize(frame, (224,224))\r\n",
    "            face=img_to_array(face)\r\n",
    "            face=preprocess_input(face)\r\n",
    "            faces.append(face)\r\n",
    "            locs.append(box.astype(\"int\"))\r\n",
    "    if len(faces)>0:\r\n",
    "        preds=mod.predict(np.array(faces, dtype=\"float32\"))\r\n",
    "    return (preds, locs)     \r\n",
    "\r\n",
    "            \r\n",
    "\r\n",
    "\r\n",
    "\r\n",
    "    "
   ],
   "outputs": [],
   "metadata": {}
  },
  {
   "cell_type": "code",
   "execution_count": 9,
   "source": [
    "from imutils.video import VideoStream\r\n",
    "vs= cv2.VideoCapture(0)\r\n",
    "\r\n",
    "while True:\r\n",
    "    a,frame=vs.read()\r\n",
    "    (preds, locs)=predictor(frame, facenet, mod)\r\n",
    "    for i ,j in zip(preds, locs):\r\n",
    "        mask=i.astype(\"float32\")\r\n",
    "        notmask=1-mask\r\n",
    "        print(mask)\r\n",
    "        (x, y, h, w)=j\r\n",
    "        label=\"Mask\" if mask<0.5 else \"No Mask\"\r\n",
    "        color=(0,0,255) if label==\"No Mask\" else (0,255,0)\r\n",
    "        textshow=label+str(max(mask, notmask)*100)\r\n",
    "        cv2.rectangle(frame, (x,y), (h,w), color, 3)\r\n",
    "        cv2.putText(frame, textshow, (x, y-10), cv2.FONT_HERSHEY_COMPLEX, 0.45, color, 2)\r\n",
    "    cv2.imshow(\"Frame\", frame)\r\n",
    "    key=cv2.waitKey(1) & 0xFF\r\n",
    "    if key==ord('a'):\r\n",
    "        break\r\n",
    "\r\n",
    "cv2.destroyAllWindows()\r\n",
    "# vs.stream.release()\r\n",
    "vs.release()\r\n",
    "# vs.stop()"
   ],
   "outputs": [
    {
     "output_type": "stream",
     "name": "stdout",
     "text": [
      "[9.653617e-25]\n",
      "[0.]\n",
      "[1.3587136e-36]\n",
      "[0.]\n",
      "[2.3591095e-37]\n",
      "[1.005597e-29]\n",
      "[1.0353006e-28]\n",
      "[5.4682273e-17]\n",
      "[1.6525293e-13]\n",
      "[4.8555537e-09]\n",
      "[1.7624767e-13]\n",
      "[1.]\n",
      "[1.]\n",
      "[0.9999994]\n",
      "[0.99987763]\n",
      "[0.9999974]\n",
      "[0.999998]\n",
      "[0.99983394]\n",
      "[1.]\n",
      "[1.]\n",
      "[0.2652159]\n",
      "[0.9999739]\n",
      "[0.00448278]\n",
      "[0.9919426]\n",
      "[1.]\n",
      "[1.]\n",
      "[1.]\n",
      "[0.9986054]\n",
      "[1.0801202e-22]\n",
      "[3.9953872e-13]\n",
      "[1.5769807e-13]\n"
     ]
    }
   ],
   "metadata": {}
  },
  {
   "cell_type": "code",
   "execution_count": null,
   "source": [],
   "outputs": [],
   "metadata": {}
  }
 ],
 "metadata": {
  "orig_nbformat": 4,
  "language_info": {
   "name": "python",
   "version": "3.8.8",
   "mimetype": "text/x-python",
   "codemirror_mode": {
    "name": "ipython",
    "version": 3
   },
   "pygments_lexer": "ipython3",
   "nbconvert_exporter": "python",
   "file_extension": ".py"
  },
  "kernelspec": {
   "name": "python3",
   "display_name": "Python 3.8.8 64-bit ('base': conda)"
  },
  "interpreter": {
   "hash": "c5e48f84046969b800ff52f6d80523bcd1ca3fb1a99f1449e4197bf6c73dc096"
  }
 },
 "nbformat": 4,
 "nbformat_minor": 2
}